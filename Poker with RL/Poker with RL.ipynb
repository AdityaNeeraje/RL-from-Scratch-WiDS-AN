{
 "cells": [
  {
   "cell_type": "code",
   "execution_count": 1,
   "id": "6ed19579-d334-4603-952e-252732272467",
   "metadata": {},
   "outputs": [],
   "source": [
    "import numpy as np\n",
    "from numpy.random import choice"
   ]
  },
  {
   "cell_type": "code",
   "execution_count": 29,
   "id": "e563c6c6-df94-4c25-995e-61b951f3147a",
   "metadata": {},
   "outputs": [],
   "source": [
    "card_face_values = list(range(12, -1, -1))"
   ]
  },
  {
   "cell_type": "code",
   "execution_count": 30,
   "id": "bedf5d9c-5968-4c8d-beab-964b5adb4d38",
   "metadata": {},
   "outputs": [],
   "source": [
    "suits = list(range(3, -1,-1))"
   ]
  },
  {
   "cell_type": "code",
   "execution_count": 31,
   "id": "af1e7f7b-c4b5-4100-9c1b-7d8ca85b7680",
   "metadata": {},
   "outputs": [],
   "source": [
    "possible_cards = []\n",
    "for suit in suits:\n",
    "    for card in card_face_values:\n",
    "        possible_cards.append(13*suit + card)"
   ]
  },
  {
   "cell_type": "code",
   "execution_count": 32,
   "id": "022b207e-67bb-400d-af3f-3d2ab13d2609",
   "metadata": {},
   "outputs": [],
   "source": [
    "two_card_states = []\n",
    "for i in range(52):\n",
    "    for j in range(i+1, 52):\n",
    "        two_card_states.append((possible_cards[i], possible_cards[j]))"
   ]
  },
  {
   "cell_type": "code",
   "execution_count": 21,
   "id": "039791a9-8bc6-4ea6-b388-e4f0e244424a",
   "metadata": {},
   "outputs": [],
   "source": [
    "def c_7_5(list):\n",
    "    combinations = []\n",
    "    assert(len(list) == 7)\n",
    "    for i in range(7):\n",
    "        for j in range(i+1, 7):\n",
    "            combinations.append([list[k] for k in range(7) if k != i and k != j])\n",
    "    return combinations"
   ]
  },
  {
   "cell_type": "code",
   "execution_count": 47,
   "id": "5abde919-ac03-4083-96be-ad6384b2fcda",
   "metadata": {},
   "outputs": [],
   "source": [
    "def value_of_hand(cards):\n",
    "    assert(len(cards) == 7)\n",
    "    face_values = [card%13 for card in cards]\n",
    "    suits = [int(card/13) for card in cards]\n",
    "    royal_flush = False\n",
    "    straight_flush = False\n",
    "    four_of_a_kind = False\n",
    "    full_house = False\n",
    "    flush = False\n",
    "    straight = False\n",
    "    three_of_a_kind = -1\n",
    "    two_pair = -1\n",
    "    two_of_a_kind = -1\n",
    "    max_value = max(face_values)\n",
    "    for suit in suits:\n",
    "        if suits.count(suit) >= 5:\n",
    "            flush_values = [cards[i]%13 for i in range(7) if int(cards[i]/13) == suit]\n",
    "            flush_values.sort()\n",
    "            flush = flush_values[-1]\n",
    "            for i in range(len(flush_values)-4):\n",
    "                if flush_values[i+4] - flush_values[i] == 4:\n",
    "                    straight_flush = flush_values[i+4]\n",
    "                    if straight_flush == 12:\n",
    "                        royal_flush = 12\n",
    "    if royal_flush:\n",
    "         return 1000 + royal_flush, list(range(royal_flush, royal_flush-5, -1))\n",
    "    if straight_flush:\n",
    "        return 900 + straight_flush, list(range(straight_flush, straight_flush-5, -1))\n",
    "    len_seq = 0\n",
    "    for num in range(13):\n",
    "        if face_values.count(num) == 0:\n",
    "            len_seq = 0\n",
    "            continue\n",
    "        len_seq += 1\n",
    "        if len_seq >= 5:\n",
    "            straight = num\n",
    "        if face_values.count(num) == 4:\n",
    "            four_of_a_kind = num\n",
    "        elif face_values.count(num) == 3:\n",
    "            if two_of_a_kind >= 0 or three_of_a_kind >= 0:\n",
    "                full_house = 20*max(two_of_a_kind, three_of_a_kind) + num\n",
    "            three_of_a_kind = num\n",
    "        elif face_values.count(num) == 2:\n",
    "            if full_house:\n",
    "                if face_values.count(full_house%20) == 2:\n",
    "                    full_house = full_house - full_house%20 + num\n",
    "                else:\n",
    "                    full_house = 20*(full_house%20) + num\n",
    "            elif three_of_a_kind:\n",
    "                full_house = 20*three_of_a_kind + num\n",
    "            elif two_pair:\n",
    "                two_pair = 20*(two_pair%20) + num\n",
    "            elif two_of_a_kind:\n",
    "                two_pair = 20*two_of_a_kind + num\n",
    "            two_of_a_kind = num\n",
    "    if four_of_a_kind:\n",
    "        max_value = max(face_values)\n",
    "        if max_value != four_of_a_kind:\n",
    "            return 800 + max_value, [four_of_a_kind]*4+[max_value]\n",
    "        else:\n",
    "            max_value = max([val for val in face_values if val != four_of_a_kind])\n",
    "            return 800 + max_value, [four_of_a_kind]*4+[max_value]\n",
    "    if full_house:\n",
    "        n1 = face_values.count(full_house%20)\n",
    "        n2 = face_values.count(int(full_house/20))\n",
    "        return 700 + int(full_house/20), [full_house%20]*n1+[int(full_house/20)]*n2\n",
    "    if flush:\n",
    "        return 600 + flush, list(range(flush, flush-5, -1))\n",
    "    if straight:\n",
    "        return 500 + straight, list(range(straight, straight-5, -1))\n",
    "    if three_of_a_kind:\n",
    "        face_values.sort()\n",
    "        values = [val for val in face_values if val != three_of_a_kind][-2:] + [three_of_a_kind]*3\n",
    "        values.sort(reverse=True)\n",
    "        return 400 + values[0], values\n",
    "    if two_pair:\n",
    "        face_values.sort()\n",
    "        values = [val for val in face_values if val != two_pair%20 and val != int(two_pair/20)][-1] + [two_pair%20]*2 + [int(two_pair/20)]*2\n",
    "        values.sort(reverse=True)\n",
    "        return 300 + values[0], values\n",
    "    if two_of_a_kind:\n",
    "        face_values.sort()\n",
    "        values = [val for val in face_values if val != two_of_a_kind][-3] + [two_of_a_kind]*2\n",
    "        values.sort(reverse=True)\n",
    "        return 200 + values[0], values"
   ]
  },
  {
   "cell_type": "code",
   "execution_count": 48,
   "id": "2443c47a-5027-4753-b593-141874045951",
   "metadata": {},
   "outputs": [
    {
     "data": {
      "text/plain": [
       "(412, [12, 12, 12, 2, 1])"
      ]
     },
     "execution_count": 48,
     "metadata": {},
     "output_type": "execute_result"
    }
   ],
   "source": [
    "value_of_hand([12, 25, 38, 39, 26, 1, 2])"
   ]
  },
  {
   "cell_type": "code",
   "execution_count": null,
   "id": "5fcb6f23-766b-4513-a24e-33a3ff3eab84",
   "metadata": {},
   "outputs": [],
   "source": [
    "# For 2 and 3 cards at hand, we'll find expected values through monte carlo methods\n",
    "# For 4 and 5, let us create a deterministic policy dictionary"
   ]
  }
 ],
 "metadata": {
  "kernelspec": {
   "display_name": "Python 3 (ipykernel)",
   "language": "python",
   "name": "python3"
  },
  "language_info": {
   "codemirror_mode": {
    "name": "ipython",
    "version": 3
   },
   "file_extension": ".py",
   "mimetype": "text/x-python",
   "name": "python",
   "nbconvert_exporter": "python",
   "pygments_lexer": "ipython3",
   "version": "3.10.12"
  }
 },
 "nbformat": 4,
 "nbformat_minor": 5
}
