{
 "cells": [
  {
   "cell_type": "markdown",
   "metadata": {},
   "source": [
    "### Assignment : Week 2\n",
    "## Finding best policies in simple MDPs\n",
    "\n",
    "Great work making the MDPs in Week 1!\n",
    "\n",
    "In this assignment, we'll use the simplest RL techniques - Policy and Value iteration to find the best policies (which maximize the discounted total reward) in our MDPs from last week.\n",
    "\n",
    "Feel free to use your own MDPs, or import them from the OpenAI Gym library.\n",
    "\n",
    "You can start this assignment during/after reading Grokking Ch-3."
   ]
  },
  {
   "cell_type": "markdown",
   "metadata": {},
   "source": [
    "Let us recall the equation to find the value function of agent's states under a policy $\\pi$ -\n",
    "$$v_{\\pi}(s) = \\sum _{a} \\pi(a|s) ~ \\left( ~ \\sum _{s', r} ~ p(s', r | s, a) ~ \\left[r + \\gamma v_{\\pi}(s') \\right] ~ \\right)$$\n",
    "\n",
    "We can observe that the value function $v_{\\pi}$ has a lot of circular dependencies on different states. \n",
    "\n",
    "To solve such equations, one of the ways is to iteratively calculate the RHS and replace the LHS by it until the $v_{\\pi}(s)$ values start to converge. \n",
    "\n",
    "The point of convergence makes all the equations simultaneously true and hence is the required solution."
   ]
  },
  {
   "cell_type": "markdown",
   "metadata": {},
   "source": [
    "Let us calculate the value functions for some policies in the MDPs we created last week."
   ]
  },
  {
   "cell_type": "markdown",
   "metadata": {},
   "source": [
    "## Environment 0 - Bandit Walk\n",
    "\n",
    "Again, we consider the BW environment on Page 39.\n",
    "\n",
    "Let's consider what seems to be the most natural policy - always go Right.\n",
    "\n",
    "This environment is so simple, that we can simply calculate the value functions by hand."
   ]
  },
  {
   "cell_type": "markdown",
   "metadata": {},
   "source": [
    "Note that by convention for the terminal states, \n",
    "$$v_{\\pi}(0) = v_{\\pi}(2) = 0$$\n",
    "\n",
    "Now, \n",
    "$$v_{\\pi}(1) = 1 + \\gamma \\cdot v_{\\pi}(2) = 1$$\n",
    "\n",
    "Note both the summations just have one term due to the deterministic nature of the environment and the policy (check which summation was corresponding to which stochastic variable)"
   ]
  },
  {
   "cell_type": "markdown",
   "metadata": {},
   "source": [
    "## Environment 1 - Slippery Walk\n",
    "\n",
    "Let's now try to solve the SWF environment from Page 67 for the naturally adversarial policy - always go Left.\n",
    "\n",
    "Since we have 5 coupled equations for states 1-5 with 5 unknown variables, we'll use Python to bruteforce the solution.\n",
    "\n",
    "To align with Grokking, let us consider an unusual $\\gamma = 1$."
   ]
  },
  {
   "cell_type": "code",
   "execution_count": 11,
   "metadata": {},
   "outputs": [],
   "source": [
    "# Step 0 is to import stuff\n",
    "import gym, gym_walk\n",
    "import numpy as np\n",
    "from gym.envs.toy_text.frozen_lake import generate_random_map"
   ]
  },
  {
   "cell_type": "code",
   "execution_count": 12,
   "metadata": {},
   "outputs": [],
   "source": [
    "# Step 1 is to get the MDP\n",
    "\n",
    "env = gym.make('SlipperyWalkFive-v0')\n",
    "swf_mdp = env.P\n",
    "# swf_mdp\n",
    "\n",
    "# Note that in Gym, action \"Left\" is \"0\" and \"Right\" is \"1\""
   ]
  },
  {
   "cell_type": "code",
   "execution_count": 69,
   "metadata": {},
   "outputs": [
    {
     "data": {
      "text/plain": [
       "{0: {0: [(0.5000000000000001, 0, 0.0, True),\n",
       "   (0.3333333333333333, 0, 0.0, True),\n",
       "   (0.16666666666666666, 0, 0.0, True)],\n",
       "  1: [(0.5000000000000001, 0, 0.0, True),\n",
       "   (0.3333333333333333, 0, 0.0, True),\n",
       "   (0.16666666666666666, 0, 0.0, True)]},\n",
       " 1: {0: [(0.5000000000000001, 0, 0.0, True),\n",
       "   (0.3333333333333333, 1, 0.0, False),\n",
       "   (0.16666666666666666, 2, 0.0, False)],\n",
       "  1: [(0.5000000000000001, 2, 0.0, False),\n",
       "   (0.3333333333333333, 1, 0.0, False),\n",
       "   (0.16666666666666666, 0, 0.0, True)]},\n",
       " 2: {0: [(0.5000000000000001, 1, 0.0, False),\n",
       "   (0.3333333333333333, 2, 0.0, False),\n",
       "   (0.16666666666666666, 3, 0.0, False)],\n",
       "  1: [(0.5000000000000001, 3, 0.0, False),\n",
       "   (0.3333333333333333, 2, 0.0, False),\n",
       "   (0.16666666666666666, 1, 0.0, False)]},\n",
       " 3: {0: [(0.5000000000000001, 2, 0.0, False),\n",
       "   (0.3333333333333333, 3, 0.0, False),\n",
       "   (0.16666666666666666, 4, 0.0, False)],\n",
       "  1: [(0.5000000000000001, 4, 0.0, False),\n",
       "   (0.3333333333333333, 3, 0.0, False),\n",
       "   (0.16666666666666666, 2, 0.0, False)]},\n",
       " 4: {0: [(0.5000000000000001, 3, 0.0, False),\n",
       "   (0.3333333333333333, 4, 0.0, False),\n",
       "   (0.16666666666666666, 5, 0.0, False)],\n",
       "  1: [(0.5000000000000001, 5, 0.0, False),\n",
       "   (0.3333333333333333, 4, 0.0, False),\n",
       "   (0.16666666666666666, 3, 0.0, False)]},\n",
       " 5: {0: [(0.5000000000000001, 4, 0.0, False),\n",
       "   (0.3333333333333333, 5, 0.0, False),\n",
       "   (0.16666666666666666, 6, 1.0, True)],\n",
       "  1: [(0.5000000000000001, 6, 1.0, True),\n",
       "   (0.3333333333333333, 5, 0.0, False),\n",
       "   (0.16666666666666666, 4, 0.0, False)]},\n",
       " 6: {0: [(0.5000000000000001, 6, 0.0, True),\n",
       "   (0.3333333333333333, 6, 0.0, True),\n",
       "   (0.16666666666666666, 6, 0.0, True)],\n",
       "  1: [(0.5000000000000001, 6, 0.0, True),\n",
       "   (0.3333333333333333, 6, 0.0, True),\n",
       "   (0.16666666666666666, 6, 0.0, True)]}}"
      ]
     },
     "execution_count": 69,
     "metadata": {},
     "output_type": "execute_result"
    }
   ],
   "source": [
    "swf_mdp"
   ]
  },
  {
   "cell_type": "code",
   "execution_count": 59,
   "metadata": {},
   "outputs": [],
   "source": [
    "# Step 2 is to write the policy\n",
    "\n",
    "pi = {\n",
    "    0 : 0,\n",
    "    1 : 0,\n",
    "    2 : 0,\n",
    "    3 : 0,\n",
    "    4 : 0,\n",
    "    5 : 0,\n",
    "    6 : 0\n",
    "}\n",
    "\n",
    "# Or you can do it randomly\n",
    "# pi = dict()\n",
    "# for state in mdp:\n",
    "#     pi[state] = np.random.choice(mdp[state].keys())"
   ]
  },
  {
   "cell_type": "code",
   "execution_count": 60,
   "metadata": {},
   "outputs": [],
   "source": [
    "# Step 3 is computing the value function for this envi and policy\n",
    "\n",
    "# Let us start with a random value function\n",
    "\n",
    "val = dict()\n",
    "for state in swf_mdp:\n",
    "    val[state] = 0\n",
    "\n",
    "# Since 0 and 6 are terminal states, we know their values are 0\n",
    "\n",
    "val[0] = 0\n",
    "val[6] = 0\n",
    "\n",
    "#Or you could do it randomly, remember to set the terminal states to 0. You can also implement this while evaluating the value function using \n",
    "# val = dict()\n",
    "# for state in mdp:\n",
    "#     val[state] = np.random.random()\n",
    "#     if mdp[state][0][0][0] == 0: # if the first action in the first outcome of the first state is 0, then it is a terminal state\n",
    "#         val[state] = 0\n",
    "\n",
    "#instead of doing thsi you can simply intialize the value function to 0 for all states \n",
    "# for state in swf_mdp:\n",
    "#   val[state] = 0"
   ]
  },
  {
   "cell_type": "code",
   "execution_count": 142,
   "metadata": {},
   "outputs": [],
   "source": [
    "def create_epsilon_greedy_policy(mdp, epsilon=0.1):\n",
    "    policy = {\n",
    "        state: [1 if len(actions) == 1 else 1 - epsilon if action == list(actions.keys())[0] else epsilon/(len(actions)-1) for action in actions.keys()]\n",
    "        for state, actions in mdp.items()\n",
    "    }\n",
    "    return policy"
   ]
  },
  {
   "cell_type": "code",
   "execution_count": 131,
   "metadata": {},
   "outputs": [],
   "source": [
    "def get_new_value_fn(val, mdp, pi, gamma = 0.7):\n",
    "    new_val = {\n",
    "        state: sum([tup[0]*(tup[2] + gamma*val[tup[1]]) for tup in mdp[state][np.random.choice(range(len(mdp[state])), p = pi[state])]])\n",
    "        for state in mdp\n",
    "    }\n",
    "    print(new_val[11])\n",
    "    return new_val"
   ]
  },
  {
   "cell_type": "code",
   "execution_count": 122,
   "metadata": {},
   "outputs": [],
   "source": [
    "#Use to above function to get the new value function, also print how many iterations it took to converge\n",
    "def policy_evaluation(val, mdp, pi, epsilon=1e-10, gamma=0.7):\n",
    "    count = 0\n",
    "    diff = 10\n",
    "    while (diff > epsilon):\n",
    "        count += 1\n",
    "        diff = 0\n",
    "        new_val = get_new_value_fn(val, mdp, pi, gamma)\n",
    "        for state in val.keys():\n",
    "            diff = max(diff, abs(val[state] - new_val[state]))\n",
    "        val = {state: value for state, value in new_val.items()}\n",
    "    # Complete this function to iteratively caluculate the value function until the difference between the new and old value function is less than epsilon\n",
    "    # Also return the number of iterations it took to converge\n",
    "    # print(count)\n",
    "    return val, count "
   ]
  },
  {
   "cell_type": "code",
   "execution_count": 150,
   "metadata": {},
   "outputs": [],
   "source": [
    "# Perform policy improvement using the polivy and the value function and return a new policy, the action value function should be a nested dictionary\n",
    "def policy_improvement(val, mdp, gamma=0.7, epsilon=0.1):\n",
    "    q = {\n",
    "        state: {\n",
    "            action: sum([tup[0]*val[tup[1]] for tup in result])\n",
    "            for action, result in mdp[state].items()\n",
    "        }\n",
    "        for state in mdp\n",
    "    }\n",
    "    new_pi = dict()\n",
    "    for state in q:\n",
    "        a = np.argmax(list(q[state].values()))\n",
    "        if len(q[state]) == 1:\n",
    "            new_pi[state] = [1]\n",
    "        else:\n",
    "            new_pi[state] = [1 - epsilon if action == a else epsilon/(len(q[state]) - 1) for action in q[state]]\n",
    "    new_pi = {\n",
    "        state: [1 if len(q[state]) == 1 else 1 - epsilon if action == list(actions.keys())[0] else epsilon/(len(actions)-1) for action in actions.keys()]\n",
    "        for state, actions in mdp.items()\n",
    "    }\n",
    "    # new_pi = {\n",
    "    #     state: np.argmax(list(q[state].values()))\n",
    "    #     for state in mdp\n",
    "    # }\n",
    "    # print(new_pi)\n",
    "    # Complete this function to get the new policy given the value function and the mdp\n",
    "    return new_pi, q\n"
   ]
  },
  {
   "cell_type": "code",
   "execution_count": 140,
   "metadata": {},
   "outputs": [],
   "source": [
    "# Use the above functions to get the optimal policy and optimal value function and return the total number of iterations it took to converge\n",
    "# Create a random policy and value function to start with or use the ones defined above\n",
    "def policy_iteration(mdp, epsilon=1e-10, gamma=1.0):\n",
    "    global pi, val\n",
    "    count = 0\n",
    "    # Complete this function to get the optimal policy and value function and return the total number of iterations it took to converge\n",
    "    return pi, val, count"
   ]
  },
  {
   "cell_type": "code",
   "execution_count": 154,
   "metadata": {},
   "outputs": [],
   "source": [
    "#Now perform value iteration, note that the value function is a dictionary and not a list, also return the number of iterations it took to converge\n",
    "def value_iteration(mdp, pi = {}, val={}, gamma=0.7, epsilon=1e-10):\n",
    "    if not pi:\n",
    "        pi = create_epsilon_greedy_policy(mdp)\n",
    "    if not val:\n",
    "        val = {s: 0 for s in mdp}\n",
    "    count = 0\n",
    "    q = {s: {act: 0 for act in action} for s, action in mdp.items()}\n",
    "    diff = 10\n",
    "    new_pi = {}\n",
    "    while any([pi.get(state) != new_pi.get(state) for state in mdp]):\n",
    "        if new_pi:\n",
    "            pi = {state: [val for val in action] for state, action in new_pi.items()}\n",
    "        count += 1\n",
    "        diff = 0\n",
    "        val, iteration_count = policy_evaluation(val, mdp, pi, epsilon, gamma)\n",
    "        new_pi, q = policy_improvement(val, mdp, gamma)\n",
    "        print(new_pi)\n",
    "    pi = {state: np.argmax(action) for state, action in new_pi.items()}\n",
    "    # Complete this function to get the optimal policy, optimal value function and return the total number of iterations it took to converge\n",
    "    return pi, val, count    "
   ]
  },
  {
   "cell_type": "code",
   "execution_count": 100,
   "metadata": {},
   "outputs": [
    {
     "name": "stdout",
     "output_type": "stream",
     "text": [
      "{0: 0.0, 1: 0.015304941824200887, 2: 0.03352511060277252, 3: 0.06833430921122735, 4: 0.13850964038422622, 5: 0.2806239662843198, 6: 0.0}\n",
      "{0: {0: 0.0, 1: 0.0}, 1: {0: 0.010689165708529048, 1: 0.021864202576119894}, 2: {0: 0.030216559314895843, 1: 0.047893015110571334}, 3: {0: 0.06262559843583308, 1: 0.09762044169631766}, 4: {0: 0.12710769578107572, 1: 0.1978709148054399}, 5: {0: 0.16279614228688638, 1: 0.11662626215881096}, 6: {0: 0.0, 1: 0.0}}\n"
     ]
    }
   ],
   "source": [
    "pi1, val1, count1 = value_iteration(swf_mdp, pi1, val1)"
   ]
  },
  {
   "cell_type": "code",
   "execution_count": 101,
   "metadata": {},
   "outputs": [
    {
     "data": {
      "text/plain": [
       "{0: 0.0,\n",
       " 1: 0.015304941824200887,\n",
       " 2: 0.03352511060277252,\n",
       " 3: 0.06833430921122735,\n",
       " 4: 0.13850964038422622,\n",
       " 5: 0.2806239662843198,\n",
       " 6: 0.0}"
      ]
     },
     "execution_count": 101,
     "metadata": {},
     "output_type": "execute_result"
    }
   ],
   "source": [
    "val1"
   ]
  },
  {
   "cell_type": "code",
   "execution_count": 102,
   "metadata": {},
   "outputs": [
    {
     "data": {
      "text/plain": [
       "{0: 0, 1: 1, 2: 1, 3: 1, 4: 1, 5: 0, 6: 0}"
      ]
     },
     "execution_count": 102,
     "metadata": {},
     "output_type": "execute_result"
    }
   ],
   "source": [
    "pi1"
   ]
  },
  {
   "cell_type": "markdown",
   "metadata": {},
   "source": [
    "## Enviroment 2 - Frozen Lake\n",
    "\n",
    "Repeat the above steps for the frozen lake environment. Don't create new functions , use the old functions.\n",
    "\n",
    "You can also write a function `test_policy()` to test your policy after training to find the number of times you reached the goal state"
   ]
  },
  {
   "cell_type": "markdown",
   "metadata": {},
   "source": []
  },
  {
   "cell_type": "code",
   "execution_count": 78,
   "metadata": {},
   "outputs": [],
   "source": [
    "env2 = gym.make('FrozenLake-v1',desc=generate_random_map(size=4))\n",
    "mdp2 = env2.P"
   ]
  },
  {
   "cell_type": "code",
   "execution_count": 126,
   "metadata": {},
   "outputs": [],
   "source": [
    "terminal_states = [10, 12, 15]\n",
    "winning_states = [15]\n",
    "dirs = {0: -1, 1: 4, 2:1, 3: -4}\n",
    "mdp2 = {\n",
    "    state: {\n",
    "        action: [(1, state+dirs[action]*(0<=state + dirs[action]<=15), 1*(state + dirs[action] in winning_states), state+dirs[action]*(0<=state + dirs[action]<=15) in terminal_states)]\n",
    "        if dirs[action == 0]\n",
    "        else\n",
    "        []\n",
    "        if dirs[action] == 1\n",
    "        for action in range(4)\n",
    "    }\n",
    "    if state not in terminal_states\n",
    "    else\n",
    "    {\n",
    "        action: [(1, state, 0, state in terminal_states)]\n",
    "        for action in range(4)\n",
    "    }\n",
    "    for state in mdp2\n",
    "}"
   ]
  },
  {
   "cell_type": "code",
   "execution_count": 127,
   "metadata": {},
   "outputs": [
    {
     "data": {
      "text/plain": [
       "{0: {0: [(1, 0, 0, False)],\n",
       "  1: [(1, 4, 0, False)],\n",
       "  2: [(1, 1, 0, False)],\n",
       "  3: [(1, 0, 0, False)]},\n",
       " 1: {0: [(1, 0, 0, False)],\n",
       "  1: [(1, 5, 0, False)],\n",
       "  2: [(1, 2, 0, False)],\n",
       "  3: [(1, 1, 0, False)]},\n",
       " 2: {0: [(1, 1, 0, False)],\n",
       "  1: [(1, 6, 0, False)],\n",
       "  2: [(1, 3, 0, False)],\n",
       "  3: [(1, 2, 0, False)]},\n",
       " 3: {0: [(1, 2, 0, False)],\n",
       "  1: [(1, 7, 0, False)],\n",
       "  2: [(1, 4, 0, False)],\n",
       "  3: [(1, 3, 0, False)]},\n",
       " 4: {0: [(1, 3, 0, False)],\n",
       "  1: [(1, 8, 0, False)],\n",
       "  2: [(1, 5, 0, False)],\n",
       "  3: [(1, 0, 0, False)]},\n",
       " 5: {0: [(1, 4, 0, False)],\n",
       "  1: [(1, 9, 0, False)],\n",
       "  2: [(1, 6, 0, False)],\n",
       "  3: [(1, 1, 0, False)]},\n",
       " 6: {0: [(1, 5, 0, False)],\n",
       "  1: [(1, 10, 0, True)],\n",
       "  2: [(1, 7, 0, False)],\n",
       "  3: [(1, 2, 0, False)]},\n",
       " 7: {0: [(1, 6, 0, False)],\n",
       "  1: [(1, 11, 0, False)],\n",
       "  2: [(1, 8, 0, False)],\n",
       "  3: [(1, 3, 0, False)]},\n",
       " 8: {0: [(1, 7, 0, False)],\n",
       "  1: [(1, 12, 0, True)],\n",
       "  2: [(1, 9, 0, False)],\n",
       "  3: [(1, 4, 0, False)]},\n",
       " 9: {0: [(1, 8, 0, False)],\n",
       "  1: [(1, 13, 0, False)],\n",
       "  2: [(1, 10, 0, True)],\n",
       "  3: [(1, 5, 0, False)]},\n",
       " 10: {0: [(1, 10, 0, True)],\n",
       "  1: [(1, 10, 0, True)],\n",
       "  2: [(1, 10, 0, True)],\n",
       "  3: [(1, 10, 0, True)]},\n",
       " 11: {0: [(1, 10, 0, True)],\n",
       "  1: [(1, 15, 1, True)],\n",
       "  2: [(1, 12, 0, True)],\n",
       "  3: [(1, 7, 0, False)]},\n",
       " 12: {0: [(1, 12, 0, True)],\n",
       "  1: [(1, 12, 0, True)],\n",
       "  2: [(1, 12, 0, True)],\n",
       "  3: [(1, 12, 0, True)]},\n",
       " 13: {0: [(1, 12, 0, True)],\n",
       "  1: [(1, 13, 0, False)],\n",
       "  2: [(1, 14, 0, False)],\n",
       "  3: [(1, 9, 0, False)]},\n",
       " 14: {0: [(1, 13, 0, False)],\n",
       "  1: [(1, 14, 0, False)],\n",
       "  2: [(1, 15, 1, True)],\n",
       "  3: [(1, 10, 0, True)]},\n",
       " 15: {0: [(1, 15, 0, True)],\n",
       "  1: [(1, 15, 0, True)],\n",
       "  2: [(1, 15, 0, True)],\n",
       "  3: [(1, 15, 0, True)]}}"
      ]
     },
     "execution_count": 127,
     "metadata": {},
     "output_type": "execute_result"
    }
   ],
   "source": [
    "mdp2"
   ]
  },
  {
   "cell_type": "code",
   "execution_count": null,
   "metadata": {},
   "outputs": [],
   "source": [
    "2: GO RIGHT\n",
    "1: GO DOWN\n",
    "0: GO LEFT\n",
    "3: GO UP"
   ]
  },
  {
   "cell_type": "code",
   "execution_count": 168,
   "metadata": {},
   "outputs": [
    {
     "name": "stdout",
     "output_type": "stream",
     "text": [
      "0.0\n",
      "{0: [0.9, 0.03333333333333333, 0.03333333333333333, 0.03333333333333333], 1: [0.9, 0.03333333333333333, 0.03333333333333333, 0.03333333333333333], 2: [0.9, 0.03333333333333333, 0.03333333333333333, 0.03333333333333333], 3: [0.9, 0.03333333333333333, 0.03333333333333333, 0.03333333333333333], 4: [0.9, 0.03333333333333333, 0.03333333333333333, 0.03333333333333333], 5: [0.9, 0.03333333333333333, 0.03333333333333333, 0.03333333333333333], 6: [0.9, 0.03333333333333333, 0.03333333333333333, 0.03333333333333333], 7: [0.9, 0.03333333333333333, 0.03333333333333333, 0.03333333333333333], 8: [0.9, 0.03333333333333333, 0.03333333333333333, 0.03333333333333333], 9: [0.9, 0.03333333333333333, 0.03333333333333333, 0.03333333333333333], 10: [0.9, 0.03333333333333333, 0.03333333333333333, 0.03333333333333333], 11: [0.9, 0.03333333333333333, 0.03333333333333333, 0.03333333333333333], 12: [0.9, 0.03333333333333333, 0.03333333333333333, 0.03333333333333333], 13: [0.9, 0.03333333333333333, 0.03333333333333333, 0.03333333333333333], 14: [0.9, 0.03333333333333333, 0.03333333333333333, 0.03333333333333333], 15: [0.9, 0.03333333333333333, 0.03333333333333333, 0.03333333333333333]}\n"
     ]
    }
   ],
   "source": [
    "# pi1, val1, count1 = policy_iteration(mdp2)\n",
    "pi2, val2, count2 = value_iteration(mdp2)"
   ]
  },
  {
   "cell_type": "code",
   "execution_count": 169,
   "metadata": {},
   "outputs": [
    {
     "data": {
      "text/plain": [
       "{0: 0,\n",
       " 1: 0,\n",
       " 2: 0,\n",
       " 3: 0,\n",
       " 4: 0,\n",
       " 5: 0,\n",
       " 6: 0,\n",
       " 7: 0,\n",
       " 8: 0,\n",
       " 9: 0,\n",
       " 10: 0,\n",
       " 11: 0,\n",
       " 12: 0,\n",
       " 13: 0,\n",
       " 14: 0,\n",
       " 15: 0}"
      ]
     },
     "execution_count": 169,
     "metadata": {},
     "output_type": "execute_result"
    }
   ],
   "source": [
    "pi2"
   ]
  },
  {
   "cell_type": "code",
   "execution_count": 153,
   "metadata": {},
   "outputs": [
    {
     "data": {
      "text/plain": [
       "{0: 0.0,\n",
       " 1: 0.0,\n",
       " 2: 0.0,\n",
       " 3: 0.0,\n",
       " 4: 0.0,\n",
       " 5: 0.0,\n",
       " 6: 0.0,\n",
       " 7: 0.0,\n",
       " 8: 0.0,\n",
       " 9: 0.0,\n",
       " 10: 0.0,\n",
       " 11: 0.0,\n",
       " 12: 0.0,\n",
       " 13: 0.0,\n",
       " 14: 0.0,\n",
       " 15: 0.0}"
      ]
     },
     "execution_count": 153,
     "metadata": {},
     "output_type": "execute_result"
    }
   ],
   "source": [
    "val2"
   ]
  },
  {
   "cell_type": "code",
   "execution_count": null,
   "metadata": {},
   "outputs": [],
   "source": [
    "def test_policy(pi, env, goalstate):\n",
    "    # Complete this function to test the policy\n",
    "    return"
   ]
  }
 ],
 "metadata": {
  "kernelspec": {
   "display_name": "Python 3 (ipykernel)",
   "language": "python",
   "name": "python3"
  },
  "language_info": {
   "codemirror_mode": {
    "name": "ipython",
    "version": 3
   },
   "file_extension": ".py",
   "mimetype": "text/x-python",
   "name": "python",
   "nbconvert_exporter": "python",
   "pygments_lexer": "ipython3",
   "version": "3.10.12"
  }
 },
 "nbformat": 4,
 "nbformat_minor": 4
}
