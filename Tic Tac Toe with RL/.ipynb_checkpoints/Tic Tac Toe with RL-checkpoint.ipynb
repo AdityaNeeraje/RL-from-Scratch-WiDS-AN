{
 "cells": [
  {
   "cell_type": "code",
   "execution_count": 1,
   "id": "6f4b93a6-be98-486c-bfc6-8a74fa2b0285",
   "metadata": {},
   "outputs": [],
   "source": [
    "# Coding a solution to Tic Tac Toe"
   ]
  },
  {
   "cell_type": "code",
   "execution_count": 76,
   "id": "14f74e01-109b-4c36-b00b-5dc7b77dba8d",
   "metadata": {},
   "outputs": [],
   "source": [
    "import numpy as np\n",
    "from numpy.random import choice\n",
    "from math import ceil"
   ]
  },
  {
   "cell_type": "code",
   "execution_count": 5,
   "id": "55d23c1a-b7e4-44ea-90eb-b7ff0333c6a9",
   "metadata": {},
   "outputs": [],
   "source": [
    "sequences = [[0,1,2], [3, 4, 5], [6, 7, 8], [0, 3, 6], [1, 4, 7], [2, 5, 8], [0, 4, 8], [2, 4, 6]]"
   ]
  },
  {
   "cell_type": "code",
   "execution_count": 6,
   "id": "ee56ee2d-3b73-459a-94ee-147e39a0e105",
   "metadata": {},
   "outputs": [],
   "source": [
    "def is_winning(given_string):\n",
    "    global sequences\n",
    "    for sequence in sequences:\n",
    "        if given_string[sequence[0]] == given_string[sequence[1]] == given_string[sequence[2]]:\n",
    "            if given_string[sequence[0]] == 'X':\n",
    "                return 1\n",
    "            elif given_string[sequence[0]] == 'O':\n",
    "                return 2\n",
    "    return 0"
   ]
  },
  {
   "cell_type": "code",
   "execution_count": 10,
   "id": "3fb9bb59-4e55-44c6-9b4f-70414c48284a",
   "metadata": {},
   "outputs": [],
   "source": [
    "def is_draw(given_string):\n",
    "    global sequences\n",
    "    for sequence in sequences:\n",
    "        if not (any([given_string[index] == 'X' for index in sequence]) and any([given_string[index] == 'O' for index in sequence])):\n",
    "            return False\n",
    "    return True"
   ]
  },
  {
   "cell_type": "code",
   "execution_count": 24,
   "id": "64309134-1c58-49ef-b357-ff2ddc2b0f34",
   "metadata": {},
   "outputs": [],
   "source": [
    "def evaluate_pos(given_string):\n",
    "    p1_winning_pos = []\n",
    "    p1_attack_pos = []\n",
    "    p2_winning_pos = []\n",
    "    p2_attack_pos = []\n",
    "    other_pos = [index for index in range(9) if given_string[index] == '.']\n",
    "    not_draw = False\n",
    "    for sequence in sequences:\n",
    "        chars = [given_string[index] for index in sequence]\n",
    "        if chars.count('X') == 0 or chars.count('O') == 0:\n",
    "            not_draw = True\n",
    "            if chars.count('X') == 3:\n",
    "                return list(range(1, 10)), [], [], [], []\n",
    "            if chars.count('O') == 3:\n",
    "                return [], [], list(range(1, 10)), [],  []\n",
    "            if chars.count('O') == 0:\n",
    "                if chars.count('X') == 2:\n",
    "                    p1_winning_pos += [index for index in sequence if given_string[index] != 'X']\n",
    "                elif chars.count('X') == 1:\n",
    "                    p1_attack_pos += [index for index in sequence if given_string[index] != 'X']\n",
    "            if chars.count('X') == 0:\n",
    "                if chars.count('O') == 2:\n",
    "                    p2_winning_pos += [index for index in sequence if given_string[index] != 'O']\n",
    "                elif chars.count('O') == 1:\n",
    "                    p2_attack_pos += [index for index in sequence if given_string[index] != 'O']\n",
    "    if not not_draw:\n",
    "        return [], [], [], [], []\n",
    "    else:\n",
    "        return p1_winning_pos, p1_attack_pos, p2_winning_pos, p2_attack_pos, [index for index in other_pos if not any([index in lis for lis in [p1_winning_pos, p1_attack_pos, p2_winning_pos, p2_attack_pos]])]"
   ]
  },
  {
   "cell_type": "code",
   "execution_count": 25,
   "id": "bdad08b3-f66d-4dde-aa94-c9691a3d5c33",
   "metadata": {},
   "outputs": [
    {
     "data": {
      "text/plain": [
       "([], [], [], [], [0, 1, 2, 3, 4, 5, 6, 7, 8])"
      ]
     },
     "execution_count": 25,
     "metadata": {},
     "output_type": "execute_result"
    }
   ],
   "source": [
    "evaluate_pos('.........')"
   ]
  },
  {
   "cell_type": "code",
   "execution_count": 26,
   "id": "adc91d1f-38e7-4b3e-a9b8-96c1a8028991",
   "metadata": {},
   "outputs": [],
   "source": [
    "states = []"
   ]
  },
  {
   "cell_type": "code",
   "execution_count": null,
   "id": "7617265f-cd6d-45c1-a703-dbb9bf14dd5d",
   "metadata": {},
   "outputs": [],
   "source": [
    "starting_string = '.........'"
   ]
  },
  {
   "cell_type": "code",
   "execution_count": 28,
   "id": "a3422c37-8b15-45cc-9ec0-fdb1ed35726f",
   "metadata": {},
   "outputs": [],
   "source": [
    "def fill_states(n):\n",
    "    global states\n",
    "    if n == 1:\n",
    "        return [\"X\", \"O\", \".\"] \n",
    "    res = fill_states(n-1)\n",
    "    return [\"X\" + short_string for short_string in res] + [\"O\" + short_string for short_string in res] + [\".\" + short_string for short_string in res]"
   ]
  },
  {
   "cell_type": "code",
   "execution_count": 31,
   "id": "ae9ac697-8a79-4cdb-9034-8ac3fea7bf99",
   "metadata": {},
   "outputs": [],
   "source": [
    "states = fill_states(9)"
   ]
  },
  {
   "cell_type": "code",
   "execution_count": 34,
   "id": "5e4e71a8-d2b5-4402-abe5-f6302229551d",
   "metadata": {},
   "outputs": [],
   "source": [
    "states = [state for state in states if state.count('O') <= state.count('X') <= state.count('O') + 1]"
   ]
  },
  {
   "cell_type": "code",
   "execution_count": 36,
   "id": "414a7d31-c7aa-4605-8c9c-cc9bafbb51c5",
   "metadata": {},
   "outputs": [],
   "source": [
    "states = [state for state in states if not is_winning(state) and not is_draw(state)]"
   ]
  },
  {
   "cell_type": "code",
   "execution_count": 190,
   "id": "7dd1c1f7-364c-4fa7-a5a9-f62a6bcab59f",
   "metadata": {},
   "outputs": [],
   "source": [
    "rewards = {\n",
    "    state: \n",
    "    {\n",
    "        action: -5*is_draw(state[:action] + \"X\"*(state.count('O') == state.count('X')) + \"O\"*(state.count('O') != state.count('X')) + state[action+1:]) - 20*(is_winning(state[:action] + \"X\"*(state.count('O') == state.count('X')) + \"O\"*(state.count('O') != state.count('X')) + state[action+1:]) == 2 - 1*(state.count('X') > state.count('O')))\n",
    "        if state[action]== '.'\n",
    "        else -50\n",
    "        for action in range(9)\n",
    "    }\n",
    "    for state in states\n",
    "}"
   ]
  },
  {
   "cell_type": "code",
   "execution_count": 191,
   "id": "79dfd90b-bf01-4895-a1ad-b2ace858b98e",
   "metadata": {},
   "outputs": [],
   "source": [
    "reward_counts = {\n",
    "    state:\n",
    "    {\n",
    "        action: 1\n",
    "        for action in range(9)\n",
    "    }\n",
    "    for state in states\n",
    "}"
   ]
  },
  {
   "cell_type": "code",
   "execution_count": 192,
   "id": "06014703-fd38-41f6-b7fe-74b0a0ecd5e1",
   "metadata": {},
   "outputs": [],
   "source": [
    "policy = {\n",
    "    state:\n",
    "        [[0,1] if state[index] != '.' else [1,state.count('.')] for index in range(9)]\n",
    "        # action: 1/len([i for i in range(9) if state[i] == '.'])\n",
    "        # for action in range(9) if state[action] == '.'\n",
    "    for state in states\n",
    "}"
   ]
  },
  {
   "cell_type": "code",
   "execution_count": 189,
   "id": "8b595200-5995-44d7-8e8c-95b5f7b4871a",
   "metadata": {},
   "outputs": [
    {
     "data": {
      "text/plain": [
       "[[9, 10],\n",
       " [1, 70],\n",
       " [1, 70],\n",
       " [1, 70],\n",
       " [1, 70],\n",
       " [1, 70],\n",
       " [1, 70],\n",
       " [1, 70],\n",
       " [1, 70]]"
      ]
     },
     "execution_count": 189,
     "metadata": {},
     "output_type": "execute_result"
    }
   ],
   "source": [
    "policy['..X......']"
   ]
  },
  {
   "cell_type": "code",
   "execution_count": 93,
   "id": "87f72a9f-1440-4b5d-bd49-b2ab79b1b615",
   "metadata": {},
   "outputs": [],
   "source": [
    "gamma = 0.9"
   ]
  },
  {
   "cell_type": "code",
   "execution_count": 193,
   "id": "d4e98527-ce3d-4884-ac2d-c078f2528a41",
   "metadata": {},
   "outputs": [],
   "source": [
    "def game():\n",
    "    global policy, rewards\n",
    "    player_num = 1\n",
    "    player = 'X'\n",
    "    new_state = '.........'\n",
    "    episode_sequence = [[new_state]]\n",
    "    action = choice(range(9), p=[frac[0]/frac[1] for frac in policy[new_state]])\n",
    "    episode_sequence[-1].append(action)\n",
    "    new_state = new_state[:action] + player + new_state[action+1:]\n",
    "    tup = evaluate_pos(new_state)\n",
    "    while any([0 < len(l) < 9 for l in tup]):\n",
    "        #print(new_state, action)\n",
    "        if player_num == 1:\n",
    "            player_num = 2\n",
    "            player = 'O'\n",
    "        else:\n",
    "            player_num = 1\n",
    "            player = 'X'\n",
    "        episode_sequence.append([new_state])\n",
    "        action = choice(range(9), p=[frac[0]/frac[1] for frac in policy[new_state]])\n",
    "        episode_sequence[-1].append(action)\n",
    "        new_state = new_state[:action] + player + new_state[action+1:]\n",
    "        tup = evaluate_pos(new_state)\n",
    "    G = 0\n",
    "    if player_num == 1:\n",
    "        if not any([l for l in tup]):\n",
    "            G = -5\n",
    "        else:\n",
    "            G = 0\n",
    "    else:\n",
    "        if not any([l for l in tup]):\n",
    "            G = -5\n",
    "        else:\n",
    "            G = 0\n",
    "    if G == -5:\n",
    "        reward = -5\n",
    "    else:\n",
    "        reward = +10\n",
    "    for q_value in episode_sequence[::-2]:\n",
    "        action = q_value[1]\n",
    "        state = q_value[0]\n",
    "        #print(state, action, reward)\n",
    "        rewards[state][action] = (rewards[state][action]*reward_counts[state][action] + reward)/(reward_counts[state][action] + 1)\n",
    "        reward_counts[state][action] += 1\n",
    "        # print(rewards[state])\n",
    "        A = np.argmax(list(rewards[state].values()))\n",
    "        num = len([i for i in range(9) if i != A and policy[state][i][0] != 0])\n",
    "        if num:\n",
    "            policy[state] = [[9,10] if act == A else [1*(policy[state][act][0] != 0), num*10] for act in range(9)]\n",
    "        else:\n",
    "            policy[state] = [[1,1] if act == A else [0,1] for act in range(9)]\n",
    "        # print(policy[state])\n",
    "        reward *= gamma\n",
    "    if G == -5:\n",
    "        reward = -5\n",
    "    else:\n",
    "        reward = -20\n",
    "    for q_value in episode_sequence[-2::-2]:\n",
    "        action = q_value[1]\n",
    "        state = q_value[0]\n",
    "        #print(state, action, reward)\n",
    "        rewards[state][action] = (rewards[state][action]*reward_counts[state][action] + reward)/(reward_counts[state][action] + 1)\n",
    "        reward_counts[state][action] += 1\n",
    "        # print(rewards[state])\n",
    "        if reward == -20:\n",
    "            summation = [policy[state][action][1] - policy[state][action][0], policy[state][action][1]]\n",
    "            if summation[0]:\n",
    "                policy[state][action] = [0,1]\n",
    "                policy[state] = [[val[0]*summation[1], val[1]*summation[0]] for val in policy[state]]\n",
    "            reward *= gamma\n",
    "            continue\n",
    "        A = np.argmax(list(rewards[state].values()))\n",
    "        num = len([i for i in range(9) if i != A and policy[state][i][0] != 0])\n",
    "        if num:\n",
    "            policy[state] = [[9,10] if act == A else [1*(policy[state][act][0] != 0), num*10] for act in range(9)]\n",
    "        else:\n",
    "            policy[state] = [[1,1] if act == A else [0,1] for act in range(9)]\n",
    "        # print(policy[state])\n",
    "        reward *= gamma\n",
    "    # print(episode_sequence)\n",
    "    return G"
   ]
  },
  {
   "cell_type": "code",
   "execution_count": 198,
   "id": "e45bc375-8337-4413-8c04-0a7285ecbdf6",
   "metadata": {},
   "outputs": [],
   "source": [
    "results = []\n",
    "num_moves = 2000000\n",
    "for i in range(num_moves):\n",
    "    if i + 1000 >= num_moves:\n",
    "        results.append(game())\n",
    "    else:\n",
    "        game()"
   ]
  },
  {
   "cell_type": "code",
   "execution_count": 199,
   "id": "af0b09a9-148a-4cdb-acc2-9cc9a0df0e26",
   "metadata": {},
   "outputs": [],
   "source": [
    "new_policy = {\n",
    "    state: np.argmax([frac[0]/frac[1] for frac in policy[state]])\n",
    "    for state in states\n",
    "}"
   ]
  },
  {
   "cell_type": "code",
   "execution_count": 205,
   "id": "43ebaa92-6ecd-4e0b-b613-b0b4da441f43",
   "metadata": {},
   "outputs": [],
   "source": [
    "def testing_game(two_player = False):\n",
    "    global new_policy\n",
    "    player_num = 1\n",
    "    player = 'X'\n",
    "    new_state = '.........'\n",
    "    if player == 'X':\n",
    "        action = new_policy[new_state]\n",
    "    new_state = new_state[:action] + player + new_state[action+1:]\n",
    "    tup = evaluate_pos(new_state)\n",
    "    while any([0 < len(l) < 9 for l in tup]):\n",
    "        if player_num == 1:\n",
    "            player_num = 2\n",
    "            player = 'O'\n",
    "        else:\n",
    "            player_num = 1\n",
    "            player = 'X'\n",
    "        if two_player:\n",
    "            if player == 'X':\n",
    "                action = new_policy[new_state]\n",
    "            else:\n",
    "                print(new_state)\n",
    "                action = int(input()) - 1\n",
    "        else:\n",
    "            action = new_policy[new_state]\n",
    "        new_state = new_state[:action] + player + new_state[action+1:]\n",
    "        tup = evaluate_pos(new_state)\n",
    "    if not any([l for l in tup]):\n",
    "        return True\n",
    "    else:\n",
    "        return False"
   ]
  },
  {
   "cell_type": "code",
   "execution_count": 202,
   "id": "0fb068f4-f3ff-4949-a135-afe2480f2800",
   "metadata": {},
   "outputs": [],
   "source": [
    "new_results = []\n",
    "new_num_moves = 1000\n",
    "for i in range(new_num_moves):\n",
    "    new_results.append(testing_game())"
   ]
  },
  {
   "cell_type": "code",
   "execution_count": 213,
   "id": "e88da4fc-d188-4c7e-abbd-1a8c57c04ab3",
   "metadata": {
    "scrolled": true
   },
   "outputs": [
    {
     "name": "stdout",
     "output_type": "stream",
     "text": [
      "....X....\n"
     ]
    },
    {
     "name": "stdin",
     "output_type": "stream",
     "text": [
      " 4\n"
     ]
    },
    {
     "name": "stdout",
     "output_type": "stream",
     "text": [
      "..XOX....\n"
     ]
    },
    {
     "ename": "KeyboardInterrupt",
     "evalue": "Interrupted by user",
     "output_type": "error",
     "traceback": [
      "\u001b[0;31m---------------------------------------------------------------------------\u001b[0m",
      "\u001b[0;31mKeyboardInterrupt\u001b[0m                         Traceback (most recent call last)",
      "Cell \u001b[0;32mIn[213], line 1\u001b[0m\n\u001b[0;32m----> 1\u001b[0m \u001b[43mtesting_game\u001b[49m\u001b[43m(\u001b[49m\u001b[38;5;28;43;01mTrue\u001b[39;49;00m\u001b[43m)\u001b[49m\n",
      "Cell \u001b[0;32mIn[205], line 22\u001b[0m, in \u001b[0;36mtesting_game\u001b[0;34m(two_player)\u001b[0m\n\u001b[1;32m     20\u001b[0m     \u001b[38;5;28;01melse\u001b[39;00m:\n\u001b[1;32m     21\u001b[0m         \u001b[38;5;28mprint\u001b[39m(new_state)\n\u001b[0;32m---> 22\u001b[0m         action \u001b[38;5;241m=\u001b[39m \u001b[38;5;28mint\u001b[39m(\u001b[38;5;28;43minput\u001b[39;49m\u001b[43m(\u001b[49m\u001b[43m)\u001b[49m) \u001b[38;5;241m-\u001b[39m \u001b[38;5;241m1\u001b[39m\n\u001b[1;32m     23\u001b[0m \u001b[38;5;28;01melse\u001b[39;00m:\n\u001b[1;32m     24\u001b[0m     action \u001b[38;5;241m=\u001b[39m new_policy[new_state]\n",
      "File \u001b[0;32m~/.local/lib/python3.10/site-packages/ipykernel/kernelbase.py:1202\u001b[0m, in \u001b[0;36mKernel.raw_input\u001b[0;34m(self, prompt)\u001b[0m\n\u001b[1;32m   1200\u001b[0m     msg \u001b[38;5;241m=\u001b[39m \u001b[38;5;124m\"\u001b[39m\u001b[38;5;124mraw_input was called, but this frontend does not support input requests.\u001b[39m\u001b[38;5;124m\"\u001b[39m\n\u001b[1;32m   1201\u001b[0m     \u001b[38;5;28;01mraise\u001b[39;00m StdinNotImplementedError(msg)\n\u001b[0;32m-> 1202\u001b[0m \u001b[38;5;28;01mreturn\u001b[39;00m \u001b[38;5;28;43mself\u001b[39;49m\u001b[38;5;241;43m.\u001b[39;49m\u001b[43m_input_request\u001b[49m\u001b[43m(\u001b[49m\n\u001b[1;32m   1203\u001b[0m \u001b[43m    \u001b[49m\u001b[38;5;28;43mstr\u001b[39;49m\u001b[43m(\u001b[49m\u001b[43mprompt\u001b[49m\u001b[43m)\u001b[49m\u001b[43m,\u001b[49m\n\u001b[1;32m   1204\u001b[0m \u001b[43m    \u001b[49m\u001b[38;5;28;43mself\u001b[39;49m\u001b[38;5;241;43m.\u001b[39;49m\u001b[43m_parent_ident\u001b[49m\u001b[43m[\u001b[49m\u001b[38;5;124;43m\"\u001b[39;49m\u001b[38;5;124;43mshell\u001b[39;49m\u001b[38;5;124;43m\"\u001b[39;49m\u001b[43m]\u001b[49m\u001b[43m,\u001b[49m\n\u001b[1;32m   1205\u001b[0m \u001b[43m    \u001b[49m\u001b[38;5;28;43mself\u001b[39;49m\u001b[38;5;241;43m.\u001b[39;49m\u001b[43mget_parent\u001b[49m\u001b[43m(\u001b[49m\u001b[38;5;124;43m\"\u001b[39;49m\u001b[38;5;124;43mshell\u001b[39;49m\u001b[38;5;124;43m\"\u001b[39;49m\u001b[43m)\u001b[49m\u001b[43m,\u001b[49m\n\u001b[1;32m   1206\u001b[0m \u001b[43m    \u001b[49m\u001b[43mpassword\u001b[49m\u001b[38;5;241;43m=\u001b[39;49m\u001b[38;5;28;43;01mFalse\u001b[39;49;00m\u001b[43m,\u001b[49m\n\u001b[1;32m   1207\u001b[0m \u001b[43m\u001b[49m\u001b[43m)\u001b[49m\n",
      "File \u001b[0;32m~/.local/lib/python3.10/site-packages/ipykernel/kernelbase.py:1245\u001b[0m, in \u001b[0;36mKernel._input_request\u001b[0;34m(self, prompt, ident, parent, password)\u001b[0m\n\u001b[1;32m   1242\u001b[0m \u001b[38;5;28;01mexcept\u001b[39;00m \u001b[38;5;167;01mKeyboardInterrupt\u001b[39;00m:\n\u001b[1;32m   1243\u001b[0m     \u001b[38;5;66;03m# re-raise KeyboardInterrupt, to truncate traceback\u001b[39;00m\n\u001b[1;32m   1244\u001b[0m     msg \u001b[38;5;241m=\u001b[39m \u001b[38;5;124m\"\u001b[39m\u001b[38;5;124mInterrupted by user\u001b[39m\u001b[38;5;124m\"\u001b[39m\n\u001b[0;32m-> 1245\u001b[0m     \u001b[38;5;28;01mraise\u001b[39;00m \u001b[38;5;167;01mKeyboardInterrupt\u001b[39;00m(msg) \u001b[38;5;28;01mfrom\u001b[39;00m \u001b[38;5;28;01mNone\u001b[39;00m\n\u001b[1;32m   1246\u001b[0m \u001b[38;5;28;01mexcept\u001b[39;00m \u001b[38;5;167;01mException\u001b[39;00m:\n\u001b[1;32m   1247\u001b[0m     \u001b[38;5;28mself\u001b[39m\u001b[38;5;241m.\u001b[39mlog\u001b[38;5;241m.\u001b[39mwarning(\u001b[38;5;124m\"\u001b[39m\u001b[38;5;124mInvalid Message:\u001b[39m\u001b[38;5;124m\"\u001b[39m, exc_info\u001b[38;5;241m=\u001b[39m\u001b[38;5;28;01mTrue\u001b[39;00m)\n",
      "\u001b[0;31mKeyboardInterrupt\u001b[0m: Interrupted by user"
     ]
    }
   ],
   "source": [
    "testing_game(True)"
   ]
  },
  {
   "cell_type": "code",
   "execution_count": 215,
   "id": "d1676169-df74-43b1-b908-f5d89eeefa64",
   "metadata": {},
   "outputs": [],
   "source": [
    "import json"
   ]
  },
  {
   "cell_type": "code",
   "execution_count": 224,
   "id": "eaf2ea5b-e61a-46ae-9de2-2fac53d267d7",
   "metadata": {},
   "outputs": [],
   "source": [
    "## Do not execute again. Will overwrite the existing file\n",
    "#new_policy = {\n",
    "#   state: int(action) for state, action in new_policy.items()\n",
    "#}\n",
    "#with open(\"final_policy.json\", \"w\") as file:\n",
    "#    json.dump(new_policy, file, indent=4)"
   ]
  },
  {
   "cell_type": "code",
   "execution_count": 226,
   "id": "8c442d4e-4195-430c-b4ca-08bdd275cb96",
   "metadata": {},
   "outputs": [],
   "source": [
    "#with open('policy.json', \"w\") as file:\n",
    "#    json.dump(policy, file, indent = 4)"
   ]
  },
  {
   "cell_type": "code",
   "execution_count": 229,
   "id": "19e8b0a6-61eb-4ded-82b4-3ae3b49b5b61",
   "metadata": {},
   "outputs": [],
   "source": [
    "#with open('rewards.json', \"w\") as file:\n",
    "#    json.dump(rewards, file, indent=4)"
   ]
  },
  {
   "cell_type": "code",
   "execution_count": null,
   "id": "7bde9846-a78e-4bb0-9445-3c8ccd54f12b",
   "metadata": {},
   "outputs": [],
   "source": []
  }
 ],
 "metadata": {
  "kernelspec": {
   "display_name": "Python 3 (ipykernel)",
   "language": "python",
   "name": "python3"
  },
  "language_info": {
   "codemirror_mode": {
    "name": "ipython",
    "version": 3
   },
   "file_extension": ".py",
   "mimetype": "text/x-python",
   "name": "python",
   "nbconvert_exporter": "python",
   "pygments_lexer": "ipython3",
   "version": "3.10.12"
  }
 },
 "nbformat": 4,
 "nbformat_minor": 5
}
